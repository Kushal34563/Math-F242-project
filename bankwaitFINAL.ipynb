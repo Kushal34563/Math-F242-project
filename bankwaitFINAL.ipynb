{
  "nbformat": 4,
  "nbformat_minor": 0,
  "metadata": {
    "colab": {
      "provenance": [],
      "include_colab_link": true
    },
    "kernelspec": {
      "name": "python3",
      "display_name": "Python 3"
    },
    "language_info": {
      "name": "python"
    }
  },
  "cells": [
    {
      "cell_type": "markdown",
      "metadata": {
        "id": "view-in-github",
        "colab_type": "text"
      },
      "source": [
        "<a href=\"https://colab.research.google.com/github/Kushal34563/Math-F242-project/blob/main/bankwaitFINAL.ipynb\" target=\"_parent\"><img src=\"https://colab.research.google.com/assets/colab-badge.svg\" alt=\"Open In Colab\"/></a>"
      ]
    },
    {
      "cell_type": "code",
      "execution_count": null,
      "metadata": {
        "id": "se1bocwo6-Sb"
      },
      "outputs": [],
      "source": [
        "import pandas as pd\n",
        "import datetime as dt\n",
        "import numpy as np\n",
        "import matplotlib\n",
        "import os\n",
        "\n",
        "%matplotlib inline\n",
        "import matplotlib as mpl\n",
        "import matplotlib.pyplot as plt\n",
        "from sklearn.model_selection import train_test_split\n",
        "from sklearn.metrics import mean_absolute_error"
      ]
    },
    {
      "cell_type": "code",
      "source": [
        "def file_len(fname):\n",
        "  with open(fname) as f:\n",
        "    for i, l in enumerate(f):\n",
        "      pass\n",
        "  return i"
      ],
      "metadata": {
        "id": "osodUg8_7ITC"
      },
      "execution_count": null,
      "outputs": []
    },
    {
      "cell_type": "code",
      "source": [
        "def F_R(path, noR):\n",
        "    iC = 0\n",
        "    with open(path,'r') as file:\n",
        "        nRows = noR\n",
        "        nColumns = 4\n",
        "        dataset = np.zeros(shape=(nRows, nColumns))\n",
        "        ATs = []\n",
        "        for line in file:\n",
        "            try:\n",
        "                dInst = line.split(',')\n",
        "                AT = dInst[1]\n",
        "                AT = dt.datetime.strptime(AT, '%H:%M')\n",
        "                aH = AT.hour\n",
        "                aM = AT.minute\n",
        "                wM = dInst[2]\n",
        "                sM = dInst[3]\n",
        "\n",
        "                ATs.append(AT)\n",
        "                dataset[iC] = [aH, aM, wM, sM]\n",
        "                iC = iC + 1\n",
        "            except:\n",
        "                pass\n",
        "    return dataset, ATs\n"
      ],
      "metadata": {
        "id": "1rBOXfX57L6j"
      },
      "execution_count": null,
      "outputs": []
    },
    {
      "cell_type": "code",
      "source": [
        "rFilePath = '/BankDataCsv/'\n",
        "fNa = 'Bank1Week1Day1'\n",
        "fullPath = rFilePath + fNa + '.csv'\n",
        "tf, tat = F_R(fullPath, 879)\n",
        "print(tf)"
      ],
      "metadata": {
        "id": "K8Fwx3VUp_9o",
        "outputId": "991148eb-d20a-436d-ca42-da422816b4c6",
        "colab": {
          "base_uri": "https://localhost:8080/"
        }
      },
      "execution_count": null,
      "outputs": [
        {
          "output_type": "stream",
          "name": "stdout",
          "text": [
            "[[ 8.  0. 11. 28.]\n",
            " [ 8.  0. 13. 25.]\n",
            " [ 8.  0. 14. 26.]\n",
            " ...\n",
            " [14. 59. 14. 27.]\n",
            " [14. 59. 13. 29.]\n",
            " [14. 59. 11. 28.]]\n"
          ]
        }
      ]
    },
    {
      "cell_type": "code",
      "source": [
        "fNas = []\n",
        "rFilePath = '/BankDataCsv/'\n",
        "fullDataset = pd.DataFrame()\n",
        "for bC in range(2):\n",
        "  for wC in range(4):\n",
        "    for dC in range(5):\n",
        "      fNa = 'Bank' + str(bC + 1) + 'Week' + str(wC + 1) + 'Day' + str(dC + 1)\n",
        "      fullPath = rFilePath + fNa + '.csv'\n",
        "      fNas.append(fullPath)\n",
        "\n",
        "      noR = file_len(fullPath) - 1\n",
        "      print ( fNa + '   '+ str(noR) + '   entries')\n",
        "      tFrs, tempATs = F_R(rFilePath + fNa + '.csv',noR)\n",
        "      #tFrs, tempATs = F_R(rFilePath + 'Bank1Week1Day1' + '.csv',noR)\n",
        "      dftFrs = pd.DataFrame(np.array(tFrs), columns=['hour', 'minutes', 'waitingTime', 'serviceTime'])\n",
        "      dfTempATs = pd.DataFrame(np.array(tempATs), columns=['AT'])\n",
        "      #print(dftFrs)\n",
        "\n",
        "      tLtQ = []\n",
        "      for ATCounter in range(noR):\n",
        "          tLtQ.append(dfTempATs.at[ATCounter, 'AT'] + pd.Timedelta(minutes = dftFrs.at[ATCounter, 'waitingTime']))\n",
        "      dftLtQ = pd.DataFrame(np.array(tLtQ), columns=['tLtQ'])\n",
        "\n",
        "      wPpl = np.zeros(noR)\n",
        "      for i in range(noR):\n",
        "        for j in range(i):\n",
        "          if (dfTempATs.at[i, 'AT'] < dftLtQ.at[j, 'tLtQ']):\n",
        "              wPpl[i] += 1\n",
        "      DFwPpl = pd.DataFrame(np.array(wPpl), columns=['waitingPeople'])\n",
        "      dayOfWeek = np.zeros(noR)\n",
        "      for i in range(noR):\n",
        "          dayOfWeek[i] = dC\n",
        "      DFdoW = pd.DataFrame(np.array(dayOfWeek), columns=['dayOfWeek'])\n",
        "      DFwPpl['waitingPeople'] = DFwPpl['waitingPeople'].astype(int)\n",
        "      dftFrs['hour'] = dftFrs['hour'].astype(int)\n",
        "      dftFrs['minutes'] = dftFrs['minutes'].astype(int)\n",
        "      DFdoW['dayOfWeek'] = DFdoW['dayOfWeek'].astype(int)\n",
        "\n",
        "      tempDataset = pd.concat([dftFrs, DFwPpl, DFdoW], axis=1)\n",
        "\n",
        "      fullDataset = pd.concat([fullDataset, tempDataset], axis=0)\n",
        "\n",
        "fullDataset = fullDataset.reset_index(drop = True)\n",
        "print(fullDataset.shape[0])"
      ],
      "metadata": {
        "id": "R8P5oYI67k1G",
        "outputId": "7dc183d1-83c3-4c71-e7b1-04812f6c2719",
        "colab": {
          "base_uri": "https://localhost:8080/"
        }
      },
      "execution_count": null,
      "outputs": [
        {
          "output_type": "stream",
          "name": "stdout",
          "text": [
            "Bank1Week1Day1   879   entries\n",
            "Bank1Week1Day2   719   entries\n",
            "Bank1Week1Day3   1019   entries\n",
            "Bank1Week1Day4   801   entries\n",
            "Bank1Week1Day5   521   entries\n",
            "Bank1Week2Day1   988   entries\n",
            "Bank1Week2Day2   683   entries\n",
            "Bank1Week2Day3   547   entries\n",
            "Bank1Week2Day4   1020   entries\n",
            "Bank1Week2Day5   788   entries\n",
            "Bank1Week3Day1   998   entries\n",
            "Bank1Week3Day2   989   entries\n",
            "Bank1Week3Day3   1000   entries\n",
            "Bank1Week3Day4   1050   entries\n",
            "Bank1Week3Day5   981   entries\n",
            "Bank1Week4Day1   856   entries\n",
            "Bank1Week4Day2   980   entries\n",
            "Bank1Week4Day3   1056   entries\n",
            "Bank1Week4Day4   898   entries\n",
            "Bank1Week4Day5   995   entries\n",
            "Bank2Week1Day1   1033   entries\n",
            "Bank2Week1Day2   788   entries\n",
            "Bank2Week1Day3   1001   entries\n",
            "Bank2Week1Day4   909   entries\n",
            "Bank2Week1Day5   930   entries\n",
            "Bank2Week2Day1   747   entries\n",
            "Bank2Week2Day2   923   entries\n",
            "Bank2Week2Day3   871   entries\n",
            "Bank2Week2Day4   763   entries\n",
            "Bank2Week2Day5   889   entries\n",
            "Bank2Week3Day1   970   entries\n",
            "Bank2Week3Day2   684   entries\n",
            "Bank2Week3Day3   723   entries\n",
            "Bank2Week3Day4   872   entries\n",
            "Bank2Week3Day5   604   entries\n",
            "Bank2Week4Day1   1016   entries\n",
            "Bank2Week4Day2   1008   entries\n",
            "Bank2Week4Day3   890   entries\n",
            "Bank2Week4Day4   947   entries\n",
            "Bank2Week4Day5   900   entries\n",
            "35236\n"
          ]
        }
      ]
    },
    {
      "cell_type": "code",
      "source": [
        "print(f'The dataset has {fullDataset.shape[0]} rows and {fullDataset.shape[1]} columns.')"
      ],
      "metadata": {
        "id": "R1xu4ULPpxtb",
        "colab": {
          "base_uri": "https://localhost:8080/"
        },
        "outputId": "5aef7302-5f46-4e29-ae39-f8d4520b50b3"
      },
      "execution_count": null,
      "outputs": [
        {
          "output_type": "stream",
          "name": "stdout",
          "text": [
            "The dataset has 35236 rows and 6 columns.\n"
          ]
        }
      ]
    },
    {
      "cell_type": "code",
      "source": [
        "fullDataset.head()"
      ],
      "metadata": {
        "id": "1z0Wk6ly6U9p",
        "colab": {
          "base_uri": "https://localhost:8080/",
          "height": 206
        },
        "outputId": "6a9c74a0-de8a-4630-c9ac-9eac3dbad3cb"
      },
      "execution_count": null,
      "outputs": [
        {
          "output_type": "execute_result",
          "data": {
            "text/plain": [
              "   hour  minutes  waitingTime  serviceTime  waitingPeople  dayOfWeek\n",
              "0     8        0         11.0         28.0              0          0\n",
              "1     8        0         13.0         25.0              1          0\n",
              "2     8        0         14.0         26.0              2          0\n",
              "3     8        0          9.0         26.0              3          0\n",
              "4     8        0         14.0         23.0              4          0"
            ],
            "text/html": [
              "\n",
              "  <div id=\"df-bdc9297f-8050-4a2e-8a8b-ffae0fffb8b9\">\n",
              "    <div class=\"colab-df-container\">\n",
              "      <div>\n",
              "<style scoped>\n",
              "    .dataframe tbody tr th:only-of-type {\n",
              "        vertical-align: middle;\n",
              "    }\n",
              "\n",
              "    .dataframe tbody tr th {\n",
              "        vertical-align: top;\n",
              "    }\n",
              "\n",
              "    .dataframe thead th {\n",
              "        text-align: right;\n",
              "    }\n",
              "</style>\n",
              "<table border=\"1\" class=\"dataframe\">\n",
              "  <thead>\n",
              "    <tr style=\"text-align: right;\">\n",
              "      <th></th>\n",
              "      <th>hour</th>\n",
              "      <th>minutes</th>\n",
              "      <th>waitingTime</th>\n",
              "      <th>serviceTime</th>\n",
              "      <th>waitingPeople</th>\n",
              "      <th>dayOfWeek</th>\n",
              "    </tr>\n",
              "  </thead>\n",
              "  <tbody>\n",
              "    <tr>\n",
              "      <th>0</th>\n",
              "      <td>8</td>\n",
              "      <td>0</td>\n",
              "      <td>11.0</td>\n",
              "      <td>28.0</td>\n",
              "      <td>0</td>\n",
              "      <td>0</td>\n",
              "    </tr>\n",
              "    <tr>\n",
              "      <th>1</th>\n",
              "      <td>8</td>\n",
              "      <td>0</td>\n",
              "      <td>13.0</td>\n",
              "      <td>25.0</td>\n",
              "      <td>1</td>\n",
              "      <td>0</td>\n",
              "    </tr>\n",
              "    <tr>\n",
              "      <th>2</th>\n",
              "      <td>8</td>\n",
              "      <td>0</td>\n",
              "      <td>14.0</td>\n",
              "      <td>26.0</td>\n",
              "      <td>2</td>\n",
              "      <td>0</td>\n",
              "    </tr>\n",
              "    <tr>\n",
              "      <th>3</th>\n",
              "      <td>8</td>\n",
              "      <td>0</td>\n",
              "      <td>9.0</td>\n",
              "      <td>26.0</td>\n",
              "      <td>3</td>\n",
              "      <td>0</td>\n",
              "    </tr>\n",
              "    <tr>\n",
              "      <th>4</th>\n",
              "      <td>8</td>\n",
              "      <td>0</td>\n",
              "      <td>14.0</td>\n",
              "      <td>23.0</td>\n",
              "      <td>4</td>\n",
              "      <td>0</td>\n",
              "    </tr>\n",
              "  </tbody>\n",
              "</table>\n",
              "</div>\n",
              "      <button class=\"colab-df-convert\" onclick=\"convertToInteractive('df-bdc9297f-8050-4a2e-8a8b-ffae0fffb8b9')\"\n",
              "              title=\"Convert this dataframe to an interactive table.\"\n",
              "              style=\"display:none;\">\n",
              "        \n",
              "  <svg xmlns=\"http://www.w3.org/2000/svg\" height=\"24px\"viewBox=\"0 0 24 24\"\n",
              "       width=\"24px\">\n",
              "    <path d=\"M0 0h24v24H0V0z\" fill=\"none\"/>\n",
              "    <path d=\"M18.56 5.44l.94 2.06.94-2.06 2.06-.94-2.06-.94-.94-2.06-.94 2.06-2.06.94zm-11 1L8.5 8.5l.94-2.06 2.06-.94-2.06-.94L8.5 2.5l-.94 2.06-2.06.94zm10 10l.94 2.06.94-2.06 2.06-.94-2.06-.94-.94-2.06-.94 2.06-2.06.94z\"/><path d=\"M17.41 7.96l-1.37-1.37c-.4-.4-.92-.59-1.43-.59-.52 0-1.04.2-1.43.59L10.3 9.45l-7.72 7.72c-.78.78-.78 2.05 0 2.83L4 21.41c.39.39.9.59 1.41.59.51 0 1.02-.2 1.41-.59l7.78-7.78 2.81-2.81c.8-.78.8-2.07 0-2.86zM5.41 20L4 18.59l7.72-7.72 1.47 1.35L5.41 20z\"/>\n",
              "  </svg>\n",
              "      </button>\n",
              "      \n",
              "  <style>\n",
              "    .colab-df-container {\n",
              "      display:flex;\n",
              "      flex-wrap:wrap;\n",
              "      gap: 12px;\n",
              "    }\n",
              "\n",
              "    .colab-df-convert {\n",
              "      background-color: #E8F0FE;\n",
              "      border: none;\n",
              "      border-radius: 50%;\n",
              "      cursor: pointer;\n",
              "      display: none;\n",
              "      fill: #1967D2;\n",
              "      height: 32px;\n",
              "      padding: 0 0 0 0;\n",
              "      width: 32px;\n",
              "    }\n",
              "\n",
              "    .colab-df-convert:hover {\n",
              "      background-color: #E2EBFA;\n",
              "      box-shadow: 0px 1px 2px rgba(60, 64, 67, 0.3), 0px 1px 3px 1px rgba(60, 64, 67, 0.15);\n",
              "      fill: #174EA6;\n",
              "    }\n",
              "\n",
              "    [theme=dark] .colab-df-convert {\n",
              "      background-color: #3B4455;\n",
              "      fill: #D2E3FC;\n",
              "    }\n",
              "\n",
              "    [theme=dark] .colab-df-convert:hover {\n",
              "      background-color: #434B5C;\n",
              "      box-shadow: 0px 1px 3px 1px rgba(0, 0, 0, 0.15);\n",
              "      filter: drop-shadow(0px 1px 2px rgba(0, 0, 0, 0.3));\n",
              "      fill: #FFFFFF;\n",
              "    }\n",
              "  </style>\n",
              "\n",
              "      <script>\n",
              "        const buttonEl =\n",
              "          document.querySelector('#df-bdc9297f-8050-4a2e-8a8b-ffae0fffb8b9 button.colab-df-convert');\n",
              "        buttonEl.style.display =\n",
              "          google.colab.kernel.accessAllowed ? 'block' : 'none';\n",
              "\n",
              "        async function convertToInteractive(key) {\n",
              "          const element = document.querySelector('#df-bdc9297f-8050-4a2e-8a8b-ffae0fffb8b9');\n",
              "          const dataTable =\n",
              "            await google.colab.kernel.invokeFunction('convertToInteractive',\n",
              "                                                     [key], {});\n",
              "          if (!dataTable) return;\n",
              "\n",
              "          const docLinkHtml = 'Like what you see? Visit the ' +\n",
              "            '<a target=\"_blank\" href=https://colab.research.google.com/notebooks/data_table.ipynb>data table notebook</a>'\n",
              "            + ' to learn more about interactive tables.';\n",
              "          element.innerHTML = '';\n",
              "          dataTable['output_type'] = 'display_data';\n",
              "          await google.colab.output.renderOutput(dataTable, element);\n",
              "          const docLink = document.createElement('div');\n",
              "          docLink.innerHTML = docLinkHtml;\n",
              "          element.appendChild(docLink);\n",
              "        }\n",
              "      </script>\n",
              "    </div>\n",
              "  </div>\n",
              "  "
            ]
          },
          "metadata": {},
          "execution_count": 44
        }
      ]
    },
    {
      "cell_type": "code",
      "source": [
        "fullDataset.describe()"
      ],
      "metadata": {
        "id": "LW9jWaql6aQ0",
        "colab": {
          "base_uri": "https://localhost:8080/",
          "height": 300
        },
        "outputId": "e6481539-f022-41e5-dbc2-1203fa46ad07"
      },
      "execution_count": null,
      "outputs": [
        {
          "output_type": "execute_result",
          "data": {
            "text/plain": [
              "               hour       minutes   waitingTime   serviceTime  waitingPeople  \\\n",
              "count  35236.000000  35236.000000  35236.000000  35236.000000   35236.000000   \n",
              "mean      10.662533     28.066835     13.814366     14.727949      30.858327   \n",
              "std        2.118393     17.350813      6.554962      6.357082      18.955454   \n",
              "min        8.000000      0.000000      3.000000      4.000000       0.000000   \n",
              "25%        9.000000     13.000000      9.000000      9.000000      18.000000   \n",
              "50%       10.000000     27.000000     12.000000     14.000000      26.000000   \n",
              "75%       13.000000     43.000000     18.000000     18.000000      39.000000   \n",
              "max       14.000000     59.000000     35.000000     36.000000     163.000000   \n",
              "\n",
              "          dayOfWeek  \n",
              "count  35236.000000  \n",
              "mean       1.963901  \n",
              "std        1.413191  \n",
              "min        0.000000  \n",
              "25%        1.000000  \n",
              "50%        2.000000  \n",
              "75%        3.000000  \n",
              "max        4.000000  "
            ],
            "text/html": [
              "\n",
              "  <div id=\"df-13b327ab-b32f-48f3-a11e-96361bbf2db3\">\n",
              "    <div class=\"colab-df-container\">\n",
              "      <div>\n",
              "<style scoped>\n",
              "    .dataframe tbody tr th:only-of-type {\n",
              "        vertical-align: middle;\n",
              "    }\n",
              "\n",
              "    .dataframe tbody tr th {\n",
              "        vertical-align: top;\n",
              "    }\n",
              "\n",
              "    .dataframe thead th {\n",
              "        text-align: right;\n",
              "    }\n",
              "</style>\n",
              "<table border=\"1\" class=\"dataframe\">\n",
              "  <thead>\n",
              "    <tr style=\"text-align: right;\">\n",
              "      <th></th>\n",
              "      <th>hour</th>\n",
              "      <th>minutes</th>\n",
              "      <th>waitingTime</th>\n",
              "      <th>serviceTime</th>\n",
              "      <th>waitingPeople</th>\n",
              "      <th>dayOfWeek</th>\n",
              "    </tr>\n",
              "  </thead>\n",
              "  <tbody>\n",
              "    <tr>\n",
              "      <th>count</th>\n",
              "      <td>35236.000000</td>\n",
              "      <td>35236.000000</td>\n",
              "      <td>35236.000000</td>\n",
              "      <td>35236.000000</td>\n",
              "      <td>35236.000000</td>\n",
              "      <td>35236.000000</td>\n",
              "    </tr>\n",
              "    <tr>\n",
              "      <th>mean</th>\n",
              "      <td>10.662533</td>\n",
              "      <td>28.066835</td>\n",
              "      <td>13.814366</td>\n",
              "      <td>14.727949</td>\n",
              "      <td>30.858327</td>\n",
              "      <td>1.963901</td>\n",
              "    </tr>\n",
              "    <tr>\n",
              "      <th>std</th>\n",
              "      <td>2.118393</td>\n",
              "      <td>17.350813</td>\n",
              "      <td>6.554962</td>\n",
              "      <td>6.357082</td>\n",
              "      <td>18.955454</td>\n",
              "      <td>1.413191</td>\n",
              "    </tr>\n",
              "    <tr>\n",
              "      <th>min</th>\n",
              "      <td>8.000000</td>\n",
              "      <td>0.000000</td>\n",
              "      <td>3.000000</td>\n",
              "      <td>4.000000</td>\n",
              "      <td>0.000000</td>\n",
              "      <td>0.000000</td>\n",
              "    </tr>\n",
              "    <tr>\n",
              "      <th>25%</th>\n",
              "      <td>9.000000</td>\n",
              "      <td>13.000000</td>\n",
              "      <td>9.000000</td>\n",
              "      <td>9.000000</td>\n",
              "      <td>18.000000</td>\n",
              "      <td>1.000000</td>\n",
              "    </tr>\n",
              "    <tr>\n",
              "      <th>50%</th>\n",
              "      <td>10.000000</td>\n",
              "      <td>27.000000</td>\n",
              "      <td>12.000000</td>\n",
              "      <td>14.000000</td>\n",
              "      <td>26.000000</td>\n",
              "      <td>2.000000</td>\n",
              "    </tr>\n",
              "    <tr>\n",
              "      <th>75%</th>\n",
              "      <td>13.000000</td>\n",
              "      <td>43.000000</td>\n",
              "      <td>18.000000</td>\n",
              "      <td>18.000000</td>\n",
              "      <td>39.000000</td>\n",
              "      <td>3.000000</td>\n",
              "    </tr>\n",
              "    <tr>\n",
              "      <th>max</th>\n",
              "      <td>14.000000</td>\n",
              "      <td>59.000000</td>\n",
              "      <td>35.000000</td>\n",
              "      <td>36.000000</td>\n",
              "      <td>163.000000</td>\n",
              "      <td>4.000000</td>\n",
              "    </tr>\n",
              "  </tbody>\n",
              "</table>\n",
              "</div>\n",
              "      <button class=\"colab-df-convert\" onclick=\"convertToInteractive('df-13b327ab-b32f-48f3-a11e-96361bbf2db3')\"\n",
              "              title=\"Convert this dataframe to an interactive table.\"\n",
              "              style=\"display:none;\">\n",
              "        \n",
              "  <svg xmlns=\"http://www.w3.org/2000/svg\" height=\"24px\"viewBox=\"0 0 24 24\"\n",
              "       width=\"24px\">\n",
              "    <path d=\"M0 0h24v24H0V0z\" fill=\"none\"/>\n",
              "    <path d=\"M18.56 5.44l.94 2.06.94-2.06 2.06-.94-2.06-.94-.94-2.06-.94 2.06-2.06.94zm-11 1L8.5 8.5l.94-2.06 2.06-.94-2.06-.94L8.5 2.5l-.94 2.06-2.06.94zm10 10l.94 2.06.94-2.06 2.06-.94-2.06-.94-.94-2.06-.94 2.06-2.06.94z\"/><path d=\"M17.41 7.96l-1.37-1.37c-.4-.4-.92-.59-1.43-.59-.52 0-1.04.2-1.43.59L10.3 9.45l-7.72 7.72c-.78.78-.78 2.05 0 2.83L4 21.41c.39.39.9.59 1.41.59.51 0 1.02-.2 1.41-.59l7.78-7.78 2.81-2.81c.8-.78.8-2.07 0-2.86zM5.41 20L4 18.59l7.72-7.72 1.47 1.35L5.41 20z\"/>\n",
              "  </svg>\n",
              "      </button>\n",
              "      \n",
              "  <style>\n",
              "    .colab-df-container {\n",
              "      display:flex;\n",
              "      flex-wrap:wrap;\n",
              "      gap: 12px;\n",
              "    }\n",
              "\n",
              "    .colab-df-convert {\n",
              "      background-color: #E8F0FE;\n",
              "      border: none;\n",
              "      border-radius: 50%;\n",
              "      cursor: pointer;\n",
              "      display: none;\n",
              "      fill: #1967D2;\n",
              "      height: 32px;\n",
              "      padding: 0 0 0 0;\n",
              "      width: 32px;\n",
              "    }\n",
              "\n",
              "    .colab-df-convert:hover {\n",
              "      background-color: #E2EBFA;\n",
              "      box-shadow: 0px 1px 2px rgba(60, 64, 67, 0.3), 0px 1px 3px 1px rgba(60, 64, 67, 0.15);\n",
              "      fill: #174EA6;\n",
              "    }\n",
              "\n",
              "    [theme=dark] .colab-df-convert {\n",
              "      background-color: #3B4455;\n",
              "      fill: #D2E3FC;\n",
              "    }\n",
              "\n",
              "    [theme=dark] .colab-df-convert:hover {\n",
              "      background-color: #434B5C;\n",
              "      box-shadow: 0px 1px 3px 1px rgba(0, 0, 0, 0.15);\n",
              "      filter: drop-shadow(0px 1px 2px rgba(0, 0, 0, 0.3));\n",
              "      fill: #FFFFFF;\n",
              "    }\n",
              "  </style>\n",
              "\n",
              "      <script>\n",
              "        const buttonEl =\n",
              "          document.querySelector('#df-13b327ab-b32f-48f3-a11e-96361bbf2db3 button.colab-df-convert');\n",
              "        buttonEl.style.display =\n",
              "          google.colab.kernel.accessAllowed ? 'block' : 'none';\n",
              "\n",
              "        async function convertToInteractive(key) {\n",
              "          const element = document.querySelector('#df-13b327ab-b32f-48f3-a11e-96361bbf2db3');\n",
              "          const dataTable =\n",
              "            await google.colab.kernel.invokeFunction('convertToInteractive',\n",
              "                                                     [key], {});\n",
              "          if (!dataTable) return;\n",
              "\n",
              "          const docLinkHtml = 'Like what you see? Visit the ' +\n",
              "            '<a target=\"_blank\" href=https://colab.research.google.com/notebooks/data_table.ipynb>data table notebook</a>'\n",
              "            + ' to learn more about interactive tables.';\n",
              "          element.innerHTML = '';\n",
              "          dataTable['output_type'] = 'display_data';\n",
              "          await google.colab.output.renderOutput(dataTable, element);\n",
              "          const docLink = document.createElement('div');\n",
              "          docLink.innerHTML = docLinkHtml;\n",
              "          element.appendChild(docLink);\n",
              "        }\n",
              "      </script>\n",
              "    </div>\n",
              "  </div>\n",
              "  "
            ]
          },
          "metadata": {},
          "execution_count": 45
        }
      ]
    },
    {
      "cell_type": "code",
      "source": [
        "print(f'There are {fullDataset.isnull().any().sum()} columns in the dataset with missing values.')"
      ],
      "metadata": {
        "id": "iofvLaCJ6dqW",
        "colab": {
          "base_uri": "https://localhost:8080/"
        },
        "outputId": "3a565992-d2bb-4b0a-9ae7-fe695becbc73"
      },
      "execution_count": null,
      "outputs": [
        {
          "output_type": "stream",
          "name": "stdout",
          "text": [
            "There are 0 columns in the dataset with missing values.\n"
          ]
        }
      ]
    },
    {
      "cell_type": "code",
      "source": [
        "x = fullDataset[\"waitingPeople\"]\n",
        "num_bins = 100\n",
        "fig, ax = plt.subplots()\n",
        "n, bins, patches = ax.hist(x, num_bins, density=1)\n",
        "\n",
        "ax.set_xlabel('Number of people waiting when joining the queue')\n",
        "ax.set_ylabel('Probability density')"
      ],
      "metadata": {
        "id": "1Z_9Ja1u6hHg",
        "colab": {
          "base_uri": "https://localhost:8080/",
          "height": 297
        },
        "outputId": "f0726a78-2c87-4ad6-9f8b-bba7a63b572e"
      },
      "execution_count": null,
      "outputs": [
        {
          "output_type": "execute_result",
          "data": {
            "text/plain": [
              "Text(0, 0.5, 'Probability density')"
            ]
          },
          "metadata": {},
          "execution_count": 47
        },
        {
          "output_type": "display_data",
          "data": {
            "text/plain": [
              "<Figure size 432x288 with 1 Axes>"
            ],
            "image/png": "[encoded data removed]"
          },
          "metadata": {
            "needs_background": "light"
          }
        }
      ]
    },
    {
      "cell_type": "code",
      "source": [
        "x = fullDataset[\"waitingTime\"]\n",
        "num_bins = 35\n",
        "fig, ax = plt.subplots()\n",
        "n, bins, patches = ax.hist(x, num_bins, density=1)\n",
        "\n",
        "ax.set_xlabel('Customer waiting time (mins)')\n",
        "ax.set_ylabel('Probability density')"
      ],
      "metadata": {
        "id": "08V2wdBR6lIG",
        "colab": {
          "base_uri": "https://localhost:8080/",
          "height": 297
        },
        "outputId": "48609971-25f7-4306-dd26-b8a70518d931"
      },
      "execution_count": null,
      "outputs": [
        {
          "output_type": "execute_result",
          "data": {
            "text/plain": [
              "Text(0, 0.5, 'Probability density')"
            ]
          },
          "metadata": {},
          "execution_count": 48
        },
        {
          "output_type": "display_data",
          "data": {
            "text/plain": [
              "<Figure size 432x288 with 1 Axes>"
            ],
            "image/png": "[encoded data removed]"
          },
          "metadata": {
            "needs_background": "light"
          }
        }
      ]
    },
    {
      "cell_type": "code",
      "source": [
        "workingCopyDataset = fullDataset\n",
        "workingCopyDataset.drop(['serviceTime'], axis=1);"
      ],
      "metadata": {
        "id": "xnvDugfz7is-"
      },
      "execution_count": null,
      "outputs": []
    },
    {
      "cell_type": "code",
      "source": [
        "# mean encoding for regression output\n",
        "def mean_encoder_regression(input_vector, output_vector):\n",
        "    assert len(input_vector) == len(output_vector)\n",
        "    noR = len(input_vector)\n",
        "\n",
        "    temp = pd.concat([input_vector, output_vector], axis=1)\n",
        "    # Compute target mean\n",
        "    averages = temp.groupby(by=input_vector.name)[output_vector.name].agg([\"mean\", \"count\"])\n",
        "\n",
        "    print(averages)\n",
        "    return_vector = pd.DataFrame(0, index=np.arange(noR), columns={'feature'})\n",
        "\n",
        "    for i in range(noR):\n",
        "        return_vector.iloc[i] = averages['mean'][input_vector.iloc[i]]\n",
        "\n",
        "    return return_vector"
      ],
      "metadata": {
        "id": "KChNEOV3pR3i"
      },
      "execution_count": null,
      "outputs": []
    },
    {
      "cell_type": "code",
      "source": [
        "encoded_input_vector_hour = mean_encoder_regression(workingCopyDataset['hour'], workingCopyDataset['waitingTime'])\n",
        "encoded_input_vector_hour.columns = ['hour']\n",
        "encoded_input_vector_minutes = mean_encoder_regression(workingCopyDataset['minutes'], workingCopyDataset['waitingTime'])\n",
        "encoded_input_vector_minutes.columns = ['minutes']\n",
        "encoded_input_vector_dayOfWeek = mean_encoder_regression(workingCopyDataset['dayOfWeek'], workingCopyDataset['waitingTime'])\n",
        "encoded_input_vector_dayOfWeek.columns = ['dayOfWeek']"
      ],
      "metadata": {
        "id": "9rJOcxnApUHc",
        "colab": {
          "base_uri": "https://localhost:8080/"
        },
        "outputId": "ba21a47e-7afa-4cad-e618-95155c82f738"
      },
      "execution_count": null,
      "outputs": [
        {
          "output_type": "stream",
          "name": "stdout",
          "text": [
            "           mean  count\n",
            "hour                  \n",
            "8     13.810723   7703\n",
            "9     13.894415   5891\n",
            "10    13.264297   4249\n",
            "11    13.734425   4093\n",
            "12    13.378100   4274\n",
            "13    13.372167   4103\n",
            "14    15.012797   4923\n",
            "              mean  count\n",
            "minutes                  \n",
            "0        13.789203    778\n",
            "1        14.139024    820\n",
            "2        13.684298    605\n",
            "3        13.886364    660\n",
            "4        14.478849    591\n",
            "5        13.578249    754\n",
            "6        13.307531    478\n",
            "7        13.934911    676\n",
            "8        13.471429    560\n",
            "9        13.813620    558\n",
            "10       13.681818    594\n",
            "11       14.077682    811\n",
            "12       14.056530    513\n",
            "13       13.726027    584\n",
            "14       14.089580    547\n",
            "15       14.185087    751\n",
            "16       14.457195    549\n",
            "17       14.587776    769\n",
            "18       13.609403    553\n",
            "19       14.176887    848\n",
            "20       13.879941    683\n",
            "21       14.383929    560\n",
            "22       15.090508    453\n",
            "23       13.731572    719\n",
            "24       14.157692    520\n",
            "25       13.654305    755\n",
            "26       14.104811    582\n",
            "27       14.219672    610\n",
            "28       14.360587    477\n",
            "29       14.599696    657\n",
            "30       13.639854    547\n",
            "31       13.003745    534\n",
            "32       13.566929    508\n",
            "33       14.528771    643\n",
            "34       13.842956    433\n",
            "35       13.258355    778\n",
            "36       13.279612    515\n",
            "37       13.213115    610\n",
            "38       13.261759    489\n",
            "39       13.265432    486\n",
            "40       13.713494    541\n",
            "41       14.709576    637\n",
            "42       13.776053    451\n",
            "43       13.445378    595\n",
            "44       13.414798    446\n",
            "45       14.067588    651\n",
            "46       13.292899    338\n",
            "47       13.566188    627\n",
            "48       13.195029    523\n",
            "49       13.451311    534\n",
            "50       13.606164    584\n",
            "51       13.770383    601\n",
            "52       13.263761    436\n",
            "53       13.049822    562\n",
            "54       13.108374    406\n",
            "55       13.406577    669\n",
            "56       13.560784    510\n",
            "57       13.990975    554\n",
            "58       14.106776    487\n",
            "59       13.161597    526\n",
            "                mean  count\n",
            "dayOfWeek                  \n",
            "0          13.053426   7487\n",
            "1          12.896959   6774\n",
            "2          13.886309   7107\n",
            "3          14.809780   7260\n",
            "4          14.445975   6608\n"
          ]
        }
      ]
    },
    {
      "cell_type": "code",
      "source": [
        "X = pd.concat([encoded_input_vector_hour['hour'], encoded_input_vector_minutes['minutes'], pd.DataFrame(workingCopyDataset['waitingPeople']), encoded_input_vector_dayOfWeek['dayOfWeek']], axis=1)\n",
        "y = workingCopyDataset['waitingTime']"
      ],
      "metadata": {
        "id": "d-ATqteppXA1"
      },
      "execution_count": null,
      "outputs": []
    },
    {
      "cell_type": "code",
      "source": [
        "X.describe()"
      ],
      "metadata": {
        "id": "BK7jkbR7pa2I",
        "colab": {
          "base_uri": "https://localhost:8080/",
          "height": 300
        },
        "outputId": "78bc2506-5ded-45a2-8ed5-b369c0c21d7c"
      },
      "execution_count": null,
      "outputs": [
        {
          "output_type": "execute_result",
          "data": {
            "text/plain": [
              "               hour       minutes  waitingPeople     dayOfWeek\n",
              "count  35236.000000  35236.000000   35236.000000  35236.000000\n",
              "mean      13.814366     13.814366      30.858327     13.814366\n",
              "std        0.533695      0.453116      18.955454      0.751573\n",
              "min       13.264297     13.003745       0.000000     12.896959\n",
              "25%       13.378100     13.451311      18.000000     13.053426\n",
              "50%       13.810723     13.770383      26.000000     13.886309\n",
              "75%       13.894415     14.139024      39.000000     14.445975\n",
              "max       15.012797     15.090508     163.000000     14.809780"
            ],
            "text/html": [
              "\n",
              "  <div id=\"df-139a8b6a-cf6e-4139-aedf-2e2d2d582e34\">\n",
              "    <div class=\"colab-df-container\">\n",
              "      <div>\n",
              "<style scoped>\n",
              "    .dataframe tbody tr th:only-of-type {\n",
              "        vertical-align: middle;\n",
              "    }\n",
              "\n",
              "    .dataframe tbody tr th {\n",
              "        vertical-align: top;\n",
              "    }\n",
              "\n",
              "    .dataframe thead th {\n",
              "        text-align: right;\n",
              "    }\n",
              "</style>\n",
              "<table border=\"1\" class=\"dataframe\">\n",
              "  <thead>\n",
              "    <tr style=\"text-align: right;\">\n",
              "      <th></th>\n",
              "      <th>hour</th>\n",
              "      <th>minutes</th>\n",
              "      <th>waitingPeople</th>\n",
              "      <th>dayOfWeek</th>\n",
              "    </tr>\n",
              "  </thead>\n",
              "  <tbody>\n",
              "    <tr>\n",
              "      <th>count</th>\n",
              "      <td>35236.000000</td>\n",
              "      <td>35236.000000</td>\n",
              "      <td>35236.000000</td>\n",
              "      <td>35236.000000</td>\n",
              "    </tr>\n",
              "    <tr>\n",
              "      <th>mean</th>\n",
              "      <td>13.814366</td>\n",
              "      <td>13.814366</td>\n",
              "      <td>30.858327</td>\n",
              "      <td>13.814366</td>\n",
              "    </tr>\n",
              "    <tr>\n",
              "      <th>std</th>\n",
              "      <td>0.533695</td>\n",
              "      <td>0.453116</td>\n",
              "      <td>18.955454</td>\n",
              "      <td>0.751573</td>\n",
              "    </tr>\n",
              "    <tr>\n",
              "      <th>min</th>\n",
              "      <td>13.264297</td>\n",
              "      <td>13.003745</td>\n",
              "      <td>0.000000</td>\n",
              "      <td>12.896959</td>\n",
              "    </tr>\n",
              "    <tr>\n",
              "      <th>25%</th>\n",
              "      <td>13.378100</td>\n",
              "      <td>13.451311</td>\n",
              "      <td>18.000000</td>\n",
              "      <td>13.053426</td>\n",
              "    </tr>\n",
              "    <tr>\n",
              "      <th>50%</th>\n",
              "      <td>13.810723</td>\n",
              "      <td>13.770383</td>\n",
              "      <td>26.000000</td>\n",
              "      <td>13.886309</td>\n",
              "    </tr>\n",
              "    <tr>\n",
              "      <th>75%</th>\n",
              "      <td>13.894415</td>\n",
              "      <td>14.139024</td>\n",
              "      <td>39.000000</td>\n",
              "      <td>14.445975</td>\n",
              "    </tr>\n",
              "    <tr>\n",
              "      <th>max</th>\n",
              "      <td>15.012797</td>\n",
              "      <td>15.090508</td>\n",
              "      <td>163.000000</td>\n",
              "      <td>14.809780</td>\n",
              "    </tr>\n",
              "  </tbody>\n",
              "</table>\n",
              "</div>\n",
              "      <button class=\"colab-df-convert\" onclick=\"convertToInteractive('df-139a8b6a-cf6e-4139-aedf-2e2d2d582e34')\"\n",
              "              title=\"Convert this dataframe to an interactive table.\"\n",
              "              style=\"display:none;\">\n",
              "        \n",
              "  <svg xmlns=\"http://www.w3.org/2000/svg\" height=\"24px\"viewBox=\"0 0 24 24\"\n",
              "       width=\"24px\">\n",
              "    <path d=\"M0 0h24v24H0V0z\" fill=\"none\"/>\n",
              "    <path d=\"M18.56 5.44l.94 2.06.94-2.06 2.06-.94-2.06-.94-.94-2.06-.94 2.06-2.06.94zm-11 1L8.5 8.5l.94-2.06 2.06-.94-2.06-.94L8.5 2.5l-.94 2.06-2.06.94zm10 10l.94 2.06.94-2.06 2.06-.94-2.06-.94-.94-2.06-.94 2.06-2.06.94z\"/><path d=\"M17.41 7.96l-1.37-1.37c-.4-.4-.92-.59-1.43-.59-.52 0-1.04.2-1.43.59L10.3 9.45l-7.72 7.72c-.78.78-.78 2.05 0 2.83L4 21.41c.39.39.9.59 1.41.59.51 0 1.02-.2 1.41-.59l7.78-7.78 2.81-2.81c.8-.78.8-2.07 0-2.86zM5.41 20L4 18.59l7.72-7.72 1.47 1.35L5.41 20z\"/>\n",
              "  </svg>\n",
              "      </button>\n",
              "      \n",
              "  <style>\n",
              "    .colab-df-container {\n",
              "      display:flex;\n",
              "      flex-wrap:wrap;\n",
              "      gap: 12px;\n",
              "    }\n",
              "\n",
              "    .colab-df-convert {\n",
              "      background-color: #E8F0FE;\n",
              "      border: none;\n",
              "      border-radius: 50%;\n",
              "      cursor: pointer;\n",
              "      display: none;\n",
              "      fill: #1967D2;\n",
              "      height: 32px;\n",
              "      padding: 0 0 0 0;\n",
              "      width: 32px;\n",
              "    }\n",
              "\n",
              "    .colab-df-convert:hover {\n",
              "      background-color: #E2EBFA;\n",
              "      box-shadow: 0px 1px 2px rgba(60, 64, 67, 0.3), 0px 1px 3px 1px rgba(60, 64, 67, 0.15);\n",
              "      fill: #174EA6;\n",
              "    }\n",
              "\n",
              "    [theme=dark] .colab-df-convert {\n",
              "      background-color: #3B4455;\n",
              "      fill: #D2E3FC;\n",
              "    }\n",
              "\n",
              "    [theme=dark] .colab-df-convert:hover {\n",
              "      background-color: #434B5C;\n",
              "      box-shadow: 0px 1px 3px 1px rgba(0, 0, 0, 0.15);\n",
              "      filter: drop-shadow(0px 1px 2px rgba(0, 0, 0, 0.3));\n",
              "      fill: #FFFFFF;\n",
              "    }\n",
              "  </style>\n",
              "\n",
              "      <script>\n",
              "        const buttonEl =\n",
              "          document.querySelector('#df-139a8b6a-cf6e-4139-aedf-2e2d2d582e34 button.colab-df-convert');\n",
              "        buttonEl.style.display =\n",
              "          google.colab.kernel.accessAllowed ? 'block' : 'none';\n",
              "\n",
              "        async function convertToInteractive(key) {\n",
              "          const element = document.querySelector('#df-139a8b6a-cf6e-4139-aedf-2e2d2d582e34');\n",
              "          const dataTable =\n",
              "            await google.colab.kernel.invokeFunction('convertToInteractive',\n",
              "                                                     [key], {});\n",
              "          if (!dataTable) return;\n",
              "\n",
              "          const docLinkHtml = 'Like what you see? Visit the ' +\n",
              "            '<a target=\"_blank\" href=https://colab.research.google.com/notebooks/data_table.ipynb>data table notebook</a>'\n",
              "            + ' to learn more about interactive tables.';\n",
              "          element.innerHTML = '';\n",
              "          dataTable['output_type'] = 'display_data';\n",
              "          await google.colab.output.renderOutput(dataTable, element);\n",
              "          const docLink = document.createElement('div');\n",
              "          docLink.innerHTML = docLinkHtml;\n",
              "          element.appendChild(docLink);\n",
              "        }\n",
              "      </script>\n",
              "    </div>\n",
              "  </div>\n",
              "  "
            ]
          },
          "metadata": {},
          "execution_count": 53
        }
      ]
    },
    {
      "cell_type": "code",
      "source": [
        "display(X)"
      ],
      "metadata": {
        "colab": {
          "base_uri": "https://localhost:8080/",
          "height": 424
        },
        "id": "6sCeBz6cxSBZ",
        "outputId": "d2de570a-6c2f-44b1-a97d-980851a6e10f"
      },
      "execution_count": null,
      "outputs": [
        {
          "output_type": "display_data",
          "data": {
            "text/plain": [
              "            hour    minutes  waitingPeople  dayOfWeek\n",
              "0      13.810723  13.789203              0  13.053426\n",
              "1      13.810723  13.789203              1  13.053426\n",
              "2      13.810723  13.789203              2  13.053426\n",
              "3      13.810723  13.789203              3  13.053426\n",
              "4      13.810723  13.789203              4  13.053426\n",
              "...          ...        ...            ...        ...\n",
              "35231  15.012797  14.106776             20  14.445975\n",
              "35232  15.012797  14.106776             21  14.445975\n",
              "35233  15.012797  14.106776             22  14.445975\n",
              "35234  15.012797  13.161597             21  14.445975\n",
              "35235  15.012797  13.161597             22  14.445975\n",
              "\n",
              "[35236 rows x 4 columns]"
            ],
            "text/html": [
              "\n",
              "  <div id=\"df-5c47c556-1891-4d2d-a381-30f5683b74be\">\n",
              "    <div class=\"colab-df-container\">\n",
              "      <div>\n",
              "<style scoped>\n",
              "    .dataframe tbody tr th:only-of-type {\n",
              "        vertical-align: middle;\n",
              "    }\n",
              "\n",
              "    .dataframe tbody tr th {\n",
              "        vertical-align: top;\n",
              "    }\n",
              "\n",
              "    .dataframe thead th {\n",
              "        text-align: right;\n",
              "    }\n",
              "</style>\n",
              "<table border=\"1\" class=\"dataframe\">\n",
              "  <thead>\n",
              "    <tr style=\"text-align: right;\">\n",
              "      <th></th>\n",
              "      <th>hour</th>\n",
              "      <th>minutes</th>\n",
              "      <th>waitingPeople</th>\n",
              "      <th>dayOfWeek</th>\n",
              "    </tr>\n",
              "  </thead>\n",
              "  <tbody>\n",
              "    <tr>\n",
              "      <th>0</th>\n",
              "      <td>13.810723</td>\n",
              "      <td>13.789203</td>\n",
              "      <td>0</td>\n",
              "      <td>13.053426</td>\n",
              "    </tr>\n",
              "    <tr>\n",
              "      <th>1</th>\n",
              "      <td>13.810723</td>\n",
              "      <td>13.789203</td>\n",
              "      <td>1</td>\n",
              "      <td>13.053426</td>\n",
              "    </tr>\n",
              "    <tr>\n",
              "      <th>2</th>\n",
              "      <td>13.810723</td>\n",
              "      <td>13.789203</td>\n",
              "      <td>2</td>\n",
              "      <td>13.053426</td>\n",
              "    </tr>\n",
              "    <tr>\n",
              "      <th>3</th>\n",
              "      <td>13.810723</td>\n",
              "      <td>13.789203</td>\n",
              "      <td>3</td>\n",
              "      <td>13.053426</td>\n",
              "    </tr>\n",
              "    <tr>\n",
              "      <th>4</th>\n",
              "      <td>13.810723</td>\n",
              "      <td>13.789203</td>\n",
              "      <td>4</td>\n",
              "      <td>13.053426</td>\n",
              "    </tr>\n",
              "    <tr>\n",
              "      <th>...</th>\n",
              "      <td>...</td>\n",
              "      <td>...</td>\n",
              "      <td>...</td>\n",
              "      <td>...</td>\n",
              "    </tr>\n",
              "    <tr>\n",
              "      <th>35231</th>\n",
              "      <td>15.012797</td>\n",
              "      <td>14.106776</td>\n",
              "      <td>20</td>\n",
              "      <td>14.445975</td>\n",
              "    </tr>\n",
              "    <tr>\n",
              "      <th>35232</th>\n",
              "      <td>15.012797</td>\n",
              "      <td>14.106776</td>\n",
              "      <td>21</td>\n",
              "      <td>14.445975</td>\n",
              "    </tr>\n",
              "    <tr>\n",
              "      <th>35233</th>\n",
              "      <td>15.012797</td>\n",
              "      <td>14.106776</td>\n",
              "      <td>22</td>\n",
              "      <td>14.445975</td>\n",
              "    </tr>\n",
              "    <tr>\n",
              "      <th>35234</th>\n",
              "      <td>15.012797</td>\n",
              "      <td>13.161597</td>\n",
              "      <td>21</td>\n",
              "      <td>14.445975</td>\n",
              "    </tr>\n",
              "    <tr>\n",
              "      <th>35235</th>\n",
              "      <td>15.012797</td>\n",
              "      <td>13.161597</td>\n",
              "      <td>22</td>\n",
              "      <td>14.445975</td>\n",
              "    </tr>\n",
              "  </tbody>\n",
              "</table>\n",
              "<p>35236 rows × 4 columns</p>\n",
              "</div>\n",
              "      <button class=\"colab-df-convert\" onclick=\"convertToInteractive('df-5c47c556-1891-4d2d-a381-30f5683b74be')\"\n",
              "              title=\"Convert this dataframe to an interactive table.\"\n",
              "              style=\"display:none;\">\n",
              "        \n",
              "  <svg xmlns=\"http://www.w3.org/2000/svg\" height=\"24px\"viewBox=\"0 0 24 24\"\n",
              "       width=\"24px\">\n",
              "    <path d=\"M0 0h24v24H0V0z\" fill=\"none\"/>\n",
              "    <path d=\"M18.56 5.44l.94 2.06.94-2.06 2.06-.94-2.06-.94-.94-2.06-.94 2.06-2.06.94zm-11 1L8.5 8.5l.94-2.06 2.06-.94-2.06-.94L8.5 2.5l-.94 2.06-2.06.94zm10 10l.94 2.06.94-2.06 2.06-.94-2.06-.94-.94-2.06-.94 2.06-2.06.94z\"/><path d=\"M17.41 7.96l-1.37-1.37c-.4-.4-.92-.59-1.43-.59-.52 0-1.04.2-1.43.59L10.3 9.45l-7.72 7.72c-.78.78-.78 2.05 0 2.83L4 21.41c.39.39.9.59 1.41.59.51 0 1.02-.2 1.41-.59l7.78-7.78 2.81-2.81c.8-.78.8-2.07 0-2.86zM5.41 20L4 18.59l7.72-7.72 1.47 1.35L5.41 20z\"/>\n",
              "  </svg>\n",
              "      </button>\n",
              "      \n",
              "  <style>\n",
              "    .colab-df-container {\n",
              "      display:flex;\n",
              "      flex-wrap:wrap;\n",
              "      gap: 12px;\n",
              "    }\n",
              "\n",
              "    .colab-df-convert {\n",
              "      background-color: #E8F0FE;\n",
              "      border: none;\n",
              "      border-radius: 50%;\n",
              "      cursor: pointer;\n",
              "      display: none;\n",
              "      fill: #1967D2;\n",
              "      height: 32px;\n",
              "      padding: 0 0 0 0;\n",
              "      width: 32px;\n",
              "    }\n",
              "\n",
              "    .colab-df-convert:hover {\n",
              "      background-color: #E2EBFA;\n",
              "      box-shadow: 0px 1px 2px rgba(60, 64, 67, 0.3), 0px 1px 3px 1px rgba(60, 64, 67, 0.15);\n",
              "      fill: #174EA6;\n",
              "    }\n",
              "\n",
              "    [theme=dark] .colab-df-convert {\n",
              "      background-color: #3B4455;\n",
              "      fill: #D2E3FC;\n",
              "    }\n",
              "\n",
              "    [theme=dark] .colab-df-convert:hover {\n",
              "      background-color: #434B5C;\n",
              "      box-shadow: 0px 1px 3px 1px rgba(0, 0, 0, 0.15);\n",
              "      filter: drop-shadow(0px 1px 2px rgba(0, 0, 0, 0.3));\n",
              "      fill: #FFFFFF;\n",
              "    }\n",
              "  </style>\n",
              "\n",
              "      <script>\n",
              "        const buttonEl =\n",
              "          document.querySelector('#df-5c47c556-1891-4d2d-a381-30f5683b74be button.colab-df-convert');\n",
              "        buttonEl.style.display =\n",
              "          google.colab.kernel.accessAllowed ? 'block' : 'none';\n",
              "\n",
              "        async function convertToInteractive(key) {\n",
              "          const element = document.querySelector('#df-5c47c556-1891-4d2d-a381-30f5683b74be');\n",
              "          const dataTable =\n",
              "            await google.colab.kernel.invokeFunction('convertToInteractive',\n",
              "                                                     [key], {});\n",
              "          if (!dataTable) return;\n",
              "\n",
              "          const docLinkHtml = 'Like what you see? Visit the ' +\n",
              "            '<a target=\"_blank\" href=https://colab.research.google.com/notebooks/data_table.ipynb>data table notebook</a>'\n",
              "            + ' to learn more about interactive tables.';\n",
              "          element.innerHTML = '';\n",
              "          dataTable['output_type'] = 'display_data';\n",
              "          await google.colab.output.renderOutput(dataTable, element);\n",
              "          const docLink = document.createElement('div');\n",
              "          docLink.innerHTML = docLinkHtml;\n",
              "          element.appendChild(docLink);\n",
              "        }\n",
              "      </script>\n",
              "    </div>\n",
              "  </div>\n",
              "  "
            ]
          },
          "metadata": {}
        }
      ]
    },
    {
      "cell_type": "code",
      "source": [
        "trainX, testX, trainy, testy = train_test_split(X, y, test_size=0.15, random_state=42)\n",
        "print(trainX.shape, trainy.shape)\n",
        "print(testX.shape, testy.shape)"
      ],
      "metadata": {
        "id": "17-3zoDRpc78",
        "colab": {
          "base_uri": "https://localhost:8080/"
        },
        "outputId": "7e5ef08f-ea92-4945-dcb0-f26439e474ba"
      },
      "execution_count": null,
      "outputs": [
        {
          "output_type": "stream",
          "name": "stdout",
          "text": [
            "(29950, 4) (29950,)\n",
            "(5286, 4) (5286,)\n"
          ]
        }
      ]
    },
    {
      "cell_type": "code",
      "source": [
        "def scale_input(X, means, stds):\n",
        "    return (X - means) / stds\n",
        "\n",
        "def descale_input(X, means, stds):\n",
        "    return (X * stds) + means"
      ],
      "metadata": {
        "id": "SuyD49N0pf-_"
      },
      "execution_count": null,
      "outputs": []
    },
    {
      "cell_type": "code",
      "source": [
        "meansX = trainX.mean(axis=0)\n",
        "stdsX = trainX.std(axis=0) + 1e-10"
      ],
      "metadata": {
        "id": "SW0wM9bypiTy"
      },
      "execution_count": null,
      "outputs": []
    },
    {
      "cell_type": "markdown",
      "source": [],
      "metadata": {
        "id": "H6zNpXCApymP"
      }
    },
    {
      "cell_type": "code",
      "source": [
        "trainX_scaled = scale_input(trainX, meansX, stdsX)\n",
        "testX_scaled = scale_input(testX, meansX, stdsX)"
      ],
      "metadata": {
        "id": "MmnYfcEIpk08"
      },
      "execution_count": null,
      "outputs": []
    },
    {
      "cell_type": "code",
      "source": [
        "from sklearn.neural_network import MLPClassifier, MLPRegressor"
      ],
      "metadata": {
        "id": "uW7igqMCtJ1f"
      },
      "execution_count": null,
      "outputs": []
    },
    {
      "cell_type": "code",
      "source": [
        "NN = MLPRegressor(max_iter=500, activation = \"relu\", hidden_layer_sizes=(100,100))"
      ],
      "metadata": {
        "id": "pGgxf9b4qntZ"
      },
      "execution_count": null,
      "outputs": []
    },
    {
      "cell_type": "code",
      "source": [
        "NN.fit(trainX,trainy)\n",
        "\n",
        "NN_pred = NN.predict(testX)\n",
        "\n",
        "print(\"MAE    \", mean_absolute_error(testy,NN_pred))"
      ],
      "metadata": {
        "id": "dDb52Gs_tl0Y",
        "outputId": "228ecaa0-4b86-4be2-b337-201eaa696c31",
        "colab": {
          "base_uri": "https://localhost:8080/"
        }
      },
      "execution_count": null,
      "outputs": [
        {
          "output_type": "stream",
          "name": "stdout",
          "text": [
            "MAE     3.7228708592472035\n"
          ]
        }
      ]
    },
    {
      "cell_type": "code",
      "source": [
        "testy_pred = NN.predict(testX)\n",
        "myLength = len(testy_pred)\n",
        "plt.plot(range(myLength), testy)\n",
        "plt.plot(range(myLength), testy_pred)\n",
        "plt.ylabel('Customer waiting time (mins)')\n",
        "plt.xlabel('Client')\n",
        "plt.legend(['Real', 'Predicted'], loc='upper left')"
      ],
      "metadata": {
        "id": "q2ibBz_buD3y",
        "outputId": "e23edfea-a948-4a62-c1bc-7a97cd24bac8",
        "colab": {
          "base_uri": "https://localhost:8080/",
          "height": 297
        }
      },
      "execution_count": null,
      "outputs": [
        {
          "output_type": "execute_result",
          "data": {
            "text/plain": [
              "<matplotlib.legend.Legend at 0x7f4685cd8a90>"
            ]
          },
          "metadata": {},
          "execution_count": 62
        },
        {
          "output_type": "display_data",
          "data": {
            "text/plain": [
              "<Figure size 432x288 with 1 Axes>"
            ],
            "image/png": "[encoded data removed]"
          },
          "metadata": {
            "needs_background": "light"
          }
        }
      ]
    },
    {
      "cell_type": "code",
      "source": [
        "myMae = mean_absolute_error(testy, testy_pred)\n",
        "print(f'The mean absolute error I get with the neural network is {myMae} minutes.')"
      ],
      "metadata": {
        "id": "3RT2sqarvrOA",
        "outputId": "d80d0dff-9d2f-4b09-ab4c-5fac04239ed0",
        "colab": {
          "base_uri": "https://localhost:8080/"
        }
      },
      "execution_count": null,
      "outputs": [
        {
          "output_type": "stream",
          "name": "stdout",
          "text": [
            "The mean absolute error I get with the neural network is 3.7228708592472035 minutes.\n"
          ]
        }
      ]
    }
  ]
}